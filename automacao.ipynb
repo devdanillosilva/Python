{
 "cells": [
  {
   "cell_type": "code",
   "execution_count": null,
   "metadata": {},
   "outputs": [],
   "source": [
    "import pandas as pd\n",
    "import os\n",
    "\n",
    "endereco_pasta = r\"C:\\Users\\Danillo\\Documents\\Teste_automacao\"\n",
    "arquivo_1 = \"[Teste] Teste automacao - Conciliacao_Mensal.csv\"\n",
    "arquivo_2 = \"[Teste] Teste automacao relatorio - Conciliacao_Mensal.csv\"\n",
    "\n",
    "def import_csv(nome_arquivo, endereco_pasta):\n",
    "    try:\n",
    "        arquivo = os.path.join(endereco_pasta, nome_arquivo)\n",
    "        df = pd.read_csv(arquivo)\n",
    "        #print(df)\n",
    "        return df\n",
    "    except Exception as e:\n",
    "        print(f\"Erro na tentativa da leitura do {arquivo}: {e}\")\n",
    "\n",
    "def pegar_colunas(resultado,colunas):\n",
    "    if resultado is not None:\n",
    "        return resultado[colunas]\n",
    "\n",
    "pegar_colunas(import_csv(arquivo_1,endereco_pasta), [\"contrato\", \"qa\", \"valor_iq\", \"valor_pp\", \"diferenca\"])\n",
    "#pegar_colunas(import_csv(arquivo_2,endereco_pasta), [\"contract\", \"amount\",\"account_type\",\"bill_item\",\"description\"])\n",
    "\n",
    "# def analisar_contratos(df, colunas_a_verificar):\n",
    "#     if df is not None:\n",
    "#         for index, row in df.iterrows():\n",
    "#             contrato = row['contrato']\n",
    "#             colunas_nao_zero = [coluna for coluna in colunas_a_verificar if row[coluna] != 0]\n",
    "#             if colunas_nao_zero:\n",
    "#                 print(f\"Contrato {contrato}:\")\n",
    "#                 for coluna in colunas_nao_zero:\n",
    "#                     print(f\"  Coluna {coluna} tem valor {row[coluna]}\")\n",
    "\n",
    "# # Importar e pegar as colunas do primeiro arquivo\n",
    "# resultado = import_csv(arquivo_1, endereco_pasta)\n",
    "# colunas_desejadas = [\"contrato\", \"qa\", \"valor_iq\", \"valor_pp\", \"diferenca\"]\n",
    "# novo_df = pegar_colunas(resultado, colunas_desejadas)\n",
    "\n",
    "# # Analisar os contratos\n",
    "# colunas_a_verificar = [\"qa\", \"valor_iq\", \"valor_pp\"]\n",
    "\n",
    "\n"
   ]
  }
 ],
 "metadata": {
  "kernelspec": {
   "display_name": "Python 3",
   "language": "python",
   "name": "python3"
  },
  "language_info": {
   "codemirror_mode": {
    "name": "ipython",
    "version": 3
   },
   "file_extension": ".py",
   "mimetype": "text/x-python",
   "name": "python",
   "nbconvert_exporter": "python",
   "pygments_lexer": "ipython3",
   "version": "3.12.4"
  }
 },
 "nbformat": 4,
 "nbformat_minor": 2
}
